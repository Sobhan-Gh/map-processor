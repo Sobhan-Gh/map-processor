{
  "nbformat": 4,
  "nbformat_minor": 0,
  "metadata": {
    "colab": {
      "name": "dephasing of emitter in linear cluster .ipynb",
      "provenance": [],
      "collapsed_sections": [],
      "authorship_tag": "ABX9TyOMYI+Z34OhbBmad9TV6DNd",
      "include_colab_link": true
    },
    "kernelspec": {
      "name": "python3",
      "display_name": "Python 3"
    },
    "language_info": {
      "name": "python"
    }
  },
  "cells": [
    {
      "cell_type": "markdown",
      "metadata": {
        "id": "view-in-github",
        "colab_type": "text"
      },
      "source": [
        "<a href=\"https://colab.research.google.com/github/Sobhan-Gh/map-processor/blob/main/dephasing_of_emitter_in_linear_cluster_.ipynb\" target=\"_parent\"><img src=\"https://colab.research.google.com/assets/colab-badge.svg\" alt=\"Open In Colab\"/></a>"
      ]
    },
    {
      "cell_type": "markdown",
      "source": [
        "An n-qubit entangled state where the 1st qubit is going through dephasing with constant rate /gamma "
      ],
      "metadata": {
        "id": "bYBqHnRS8QMD"
      }
    },
    {
      "cell_type": "code",
      "source": [
        "!pip install qutip"
      ],
      "metadata": {
        "id": "aS1Vz-TBBbf9"
      },
      "execution_count": null,
      "outputs": []
    },
    {
      "cell_type": "code",
      "execution_count": 173,
      "metadata": {
        "id": "ieH5n3Wi8PjO"
      },
      "outputs": [],
      "source": [
        "from qutip import *\n",
        "from sympy import Matrix\n",
        "from qutip.qip.operations import cphase\n",
        "from qutip.qip.operations import hadamard_transform\n",
        "from functools import reduce\n",
        "import numpy as np\n",
        "from numpy import pi, sqrt\n",
        "import matplotlib.pyplot as plt"
      ]
    },
    {
      "cell_type": "markdown",
      "source": [
        "Linear cluster state maker for \"n\" qubits (ideal case)"
      ],
      "metadata": {
        "id": "lr_rKOc2-KcR"
      }
    },
    {
      "cell_type": "code",
      "source": [
        "def entangler(n):\n",
        "\n",
        "    #initialize all qubits in |+> state\n",
        "\n",
        "    qubits_list=[]\n",
        "    for i in range(n):\n",
        "        qubit=basis(2,0)\n",
        "        qubit=hadamard_transform(N=1)*qubit\n",
        "        qubits_list.append(ket2dm(qubit))\n",
        "    rho_0=reduce(tensor,qubits_list)\n",
        "\n",
        "    #entangle through CZ gates for all edges in the cluster to obtain the rho_0 = our initial state for the time evolution\n",
        "\n",
        "    for i in range(len(qubits_list)-1):\n",
        "        rho_0=cphase(pi, N=n, control=i, target=i+1)*rho_0*cphase(pi, N=n, control=i, target=i+1).dag()\n",
        "\n",
        "    return rho_0"
      ],
      "metadata": {
        "id": "sezuoWnE8nlS"
      },
      "execution_count": 99,
      "outputs": []
    },
    {
      "cell_type": "markdown",
      "source": [
        "Use rho_0 to solve time evolution by Lindbald"
      ],
      "metadata": {
        "id": "JQQo3fXpHKyN"
      }
    },
    {
      "cell_type": "code",
      "source": [
        "# define Hamiltonian\n",
        "def Hamiltonian(n):\n",
        "    H0=(2*pi/3.03)*sigmax() #precession time preiod(3.03 ns) by Gershoni's parameters\n",
        "    H_n=qeye(2)\n",
        "    H_list=[H0]+[H_n for i in range(n-1)]\n",
        "    H_total=reduce(tensor,H_list) \n",
        "    return H_total"
      ],
      "metadata": {
        "id": "5w0Cw0TFCLFc"
      },
      "execution_count": 106,
      "outputs": []
    },
    {
      "cell_type": "code",
      "source": [
        "def time_solver(n, gamma_dephase, rho_0, H_total, T=3.03):\n",
        "    #gamma_dephase = dephasing rate (per cycle?)\n",
        "    collapse = sqrt(gamma_dephase)*(ket2dm(basis(2,0))-ket2dm(basis(2,1))) #represents dephasing\n",
        "\n",
        "    collapse_list = [collapse]+[qeye(2) for i in range(n-1)] \n",
        "    collapse_total=reduce(tensor,collapse_list) # tensor with other qubits \n",
        "\n",
        "    t = np.linspace(0, T, 1000)\n",
        "    output_list = mesolve(H_total, rho_0, t, collapse_total)\n",
        "    return output_list"
      ],
      "metadata": {
        "id": "Glcd2dY0JZdK"
      },
      "execution_count": 133,
      "outputs": []
    },
    {
      "cell_type": "code",
      "source": [
        "#default time interval is (0,3.03 ns) for one cycle \n",
        "def rho_finder(n=2,gamma_dephase=0.01, T=3.03):\n",
        "    rho_0=entangler(n)\n",
        "    H_total=Hamiltonian(n)\n",
        "    final=time_solver(n, gamma_dephase, rho_0, H_total, T)\n",
        "    return final.states[-1]"
      ],
      "metadata": {
        "id": "FxsdZrKwPAnl"
      },
      "execution_count": 134,
      "outputs": []
    },
    {
      "cell_type": "code",
      "source": [
        "# A function to represent QuTiP states in matrix form \n",
        "def represent(state):\n",
        "  x=state.shape[0]\n",
        "  yyy=Matrix(state.tidyup())\n",
        "  for i in range(0,x):\n",
        "    for j in range(0,x):\n",
        "      yyy[i,j]=round(yyy[i,j],3)\n",
        "  return yyy\n"
      ],
      "metadata": {
        "id": "_LVMTXJkQEOO"
      },
      "execution_count": 137,
      "outputs": []
    },
    {
      "cell_type": "code",
      "source": [
        "#Evaluate negativity between bi-partitions a and b in the system. \n",
        "def eval_negativity(density_matrix,a,b):\n",
        "  '''In mutipartite state \"density_matrix\", choose list of qubits in a and b to evaluate negativity for'''\n",
        "  #counting spaces starting from 0 (the first qubit), 1 (the second) and so on. \n",
        "  #note that a and b are lists! In case they only represent one qubit then e.g. a=[0],b=[1,2,3]\n",
        "  rho=density_matrix.ptrace(a+b)\n",
        "  ab_list=[0 for x in a]+[1 for y in b]\n",
        "  rho_pt = partial_transpose(rho,ab_list)\n",
        "  L = rho_pt.eigenenergies()\n",
        "  #N = ((rho_pt.dag() * rho_pt).sqrtm().tr().real - 1)/2.0\n",
        "  N = ((abs(L)-L)/2).sum()\n",
        "  return round(N,6)"
      ],
      "metadata": {
        "id": "V4vSsACwUnxS"
      },
      "execution_count": 158,
      "outputs": []
    },
    {
      "cell_type": "code",
      "source": [
        "rho=rho_finder(n=2,T=60)\n",
        "represent(rho)"
      ],
      "metadata": {
        "colab": {
          "base_uri": "https://localhost:8080/",
          "height": 98
        },
        "id": "NtZ0On-_S3ca",
        "outputId": "daa03417-b861-4663-ec1b-a16e055274fe"
      },
      "execution_count": 170,
      "outputs": [
        {
          "output_type": "execute_result",
          "data": {
            "text/plain": [
              "Matrix([\n",
              "[            0.25, -0.109 + 0.083*I,            0.075, 0.109 - 0.083*I],\n",
              "[-0.109 - 0.083*I,             0.25, -0.109 - 0.083*I,          -0.075],\n",
              "[           0.075, -0.109 + 0.083*I,             0.25, 0.109 - 0.083*I],\n",
              "[ 0.109 + 0.083*I,           -0.075,  0.109 + 0.083*I,            0.25]])"
            ],
            "text/latex": "$\\displaystyle \\left[\\begin{matrix}0.25 & -0.109 + 0.083 i & 0.075 & 0.109 - 0.083 i\\\\-0.109 - 0.083 i & 0.25 & -0.109 - 0.083 i & -0.075\\\\0.075 & -0.109 + 0.083 i & 0.25 & 0.109 - 0.083 i\\\\0.109 + 0.083 i & -0.075 & 0.109 + 0.083 i & 0.25\\end{matrix}\\right]$"
          },
          "metadata": {},
          "execution_count": 170
        }
      ]
    },
    {
      "cell_type": "code",
      "source": [
        "#negativity over time\n",
        "neg_list=[]\n",
        "for t in range(1,100):\n",
        "  rho=rho_finder(n=2,T=t)\n",
        "  neg_list.append(eval_negativity(rho,[0],[1]))\n",
        "plt.plot([t for t in range(1,100)],neg_list)\n",
        "plt.show()"
      ],
      "metadata": {
        "colab": {
          "base_uri": "https://localhost:8080/",
          "height": 265
        },
        "id": "jT4Y4LHoTRzT",
        "outputId": "c244ae35-380c-4227-fb16-8b9333b8e19a"
      },
      "execution_count": 179,
      "outputs": [
        {
          "output_type": "display_data",
          "data": {
            "text/plain": [
              "<Figure size 432x288 with 1 Axes>"
            ],
            "image/png": "[encoded data removed]"
          },
          "metadata": {
            "needs_background": "light"
          }
        }
      ]
    },
    {
      "cell_type": "code",
      "source": [
        ""
      ],
      "metadata": {
        "id": "b759ExEJV4xj"
      },
      "execution_count": null,
      "outputs": []
    }
  ]
}