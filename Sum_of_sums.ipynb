{
  "nbformat": 4,
  "nbformat_minor": 0,
  "metadata": {
    "colab": {
      "name": "Sum_of_sums.ipynb",
      "provenance": [],
      "collapsed_sections": [],
      "authorship_tag": "ABX9TyM68uDoIWJV1VRi0WWT8iLO",
      "include_colab_link": true
    },
    "kernelspec": {
      "name": "python3",
      "display_name": "Python 3"
    },
    "language_info": {
      "name": "python"
    }
  },
  "cells": [
    {
      "cell_type": "markdown",
      "metadata": {
        "id": "view-in-github",
        "colab_type": "text"
      },
      "source": [
        "<a href=\"https://colab.research.google.com/github/Sobhan-Gh/map-processor/blob/main/Sum_of_sums.ipynb\" target=\"_parent\"><img src=\"https://colab.research.google.com/assets/colab-badge.svg\" alt=\"Open In Colab\"/></a>"
      ]
    },
    {
      "cell_type": "markdown",
      "source": [
        "This is a function to produce arbitrary number of sigma sums one inside the other. "
      ],
      "metadata": {
        "id": "Z4q9fG8EizXF"
      }
    },
    {
      "cell_type": "code",
      "source": [
        "def var_for(n,range_list,counter_list):\n",
        "  #counter list must be set to (n+1)*[0] list before function call. It containt the list of the counters in the reverse order.\n",
        "  # n is the number of for loops - 1\n",
        "  # range list is a list of tuples each representing the lower and upper bounds of each of the \"n\" sums\n",
        "  # the last member of this list is the range for the first sigma. Below ordering is reveresed to make the input similar to the sum order in sigma notation.\n",
        "  ordered_range=range_list[::-1]\n",
        "  if n==0:\n",
        "    # add one last member to counter list for the last loop\n",
        "    for i in range(ordered_range[n][0],ordered_range[n][1]):\n",
        "      #change the last counter member in the last loop as the loop spans the range\n",
        "      counter_list[n]=i\n",
        "      print(f'the last i equals {i} and (reversed before print) counters equal{counter_list[::-1]}')\n",
        "    return\n",
        "  else:\n",
        "    for i in range(ordered_range[n][0],ordered_range[n][1]):\n",
        "      counter_list[n]=i\n",
        "      print(i)\n",
        "      var_for(n-1,range_list,counter_list)\n",
        "    return"
      ],
      "metadata": {
        "id": "m3EUZCDki_p6"
      },
      "execution_count": 3,
      "outputs": []
    },
    {
      "cell_type": "code",
      "source": [
        "#important example as reminder of what n, range_list and couter_list are and how they behave\n",
        "n=2\n",
        "range_list=[(1,3),(3,5),(5,7)]\n",
        "counter_list=(n+1)*[0] # the plus one is due to the fact that, for instance, n=2 is a list of length 3 but 2*[0] is a list of length 2 \n",
        "#reverse range_list order before input\n",
        "var_for(n,range_list,counter_list)\n"
      ],
      "metadata": {
        "colab": {
          "base_uri": "https://localhost:8080/"
        },
        "id": "-508rnqnk0fu",
        "outputId": "5876037e-1107-44b7-ffce-62470818ee71"
      },
      "execution_count": 4,
      "outputs": [
        {
          "output_type": "stream",
          "name": "stdout",
          "text": [
            "1\n",
            "3\n",
            "the last i equals 5 and (reversed before print) counters equal[1, 3, 5]\n",
            "the last i equals 6 and (reversed before print) counters equal[1, 3, 6]\n",
            "4\n",
            "the last i equals 5 and (reversed before print) counters equal[1, 4, 5]\n",
            "the last i equals 6 and (reversed before print) counters equal[1, 4, 6]\n",
            "2\n",
            "3\n",
            "the last i equals 5 and (reversed before print) counters equal[2, 3, 5]\n",
            "the last i equals 6 and (reversed before print) counters equal[2, 3, 6]\n",
            "4\n",
            "the last i equals 5 and (reversed before print) counters equal[2, 4, 5]\n",
            "the last i equals 6 and (reversed before print) counters equal[2, 4, 6]\n"
          ]
        }
      ]
    },
    {
      "cell_type": "code",
      "source": [
        "n*[0]"
      ],
      "metadata": {
        "colab": {
          "base_uri": "https://localhost:8080/"
        },
        "id": "zePJXXlhK43q",
        "outputId": "c602c5d4-d514-446e-cb09-4d03ba1f30fb"
      },
      "execution_count": 61,
      "outputs": [
        {
          "output_type": "execute_result",
          "data": {
            "text/plain": [
              "[0, 0]"
            ]
          },
          "metadata": {},
          "execution_count": 61
        }
      ]
    }
  ]
}