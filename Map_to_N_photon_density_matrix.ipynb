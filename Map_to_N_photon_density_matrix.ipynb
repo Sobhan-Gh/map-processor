{
  "nbformat": 4,
  "nbformat_minor": 0,
  "metadata": {
    "colab": {
      "name": "Map to N-photon density matrix.ipynb",
      "provenance": [],
      "collapsed_sections": [],
      "authorship_tag": "ABX9TyO3mvYYK2C3novA7q7W3NFL",
      "include_colab_link": true
    },
    "kernelspec": {
      "name": "python3",
      "display_name": "Python 3"
    },
    "language_info": {
      "name": "python"
    }
  },
  "cells": [
    {
      "cell_type": "markdown",
      "metadata": {
        "id": "view-in-github",
        "colab_type": "text"
      },
      "source": [
        "<a href=\"https://colab.research.google.com/github/Sobhan-Gh/map-processor/blob/main/Map_to_N_photon_density_matrix.ipynb\" target=\"_parent\"><img src=\"https://colab.research.google.com/assets/colab-badge.svg\" alt=\"Open In Colab\"/></a>"
      ]
    },
    {
      "cell_type": "code",
      "source": [
        "!pip install qutip\n",
        "from functools import reduce  # Python 3 forward compatibility\n",
        "import operator\n",
        "from qutip import *\n",
        "from sympy import MatrixSymbol, Matrix\n"
      ],
      "metadata": {
        "colab": {
          "base_uri": "https://localhost:8080/"
        },
        "id": "Jf6rGhZq2jR2",
        "outputId": "652a223c-1778-4f78-85a5-53872ef41382"
      },
      "execution_count": 48,
      "outputs": [
        {
          "output_type": "stream",
          "name": "stdout",
          "text": [
            "Looking in indexes: https://pypi.org/simple, https://us-python.pkg.dev/colab-wheels/public/simple/\n",
            "Collecting qutip\n",
            "  Downloading qutip-4.7.0-cp37-cp37m-manylinux_2_5_x86_64.manylinux1_x86_64.manylinux_2_12_x86_64.manylinux2010_x86_64.whl (14.7 MB)\n",
            "\u001b[K     |████████████████████████████████| 14.7 MB 6.9 MB/s \n",
            "\u001b[?25hRequirement already satisfied: scipy>=1.0 in /usr/local/lib/python3.7/dist-packages (from qutip) (1.4.1)\n",
            "Requirement already satisfied: numpy>=1.16.6 in /usr/local/lib/python3.7/dist-packages (from qutip) (1.21.6)\n",
            "Requirement already satisfied: packaging in /usr/local/lib/python3.7/dist-packages (from qutip) (21.3)\n",
            "Requirement already satisfied: pyparsing!=3.0.5,>=2.0.2 in /usr/local/lib/python3.7/dist-packages (from packaging->qutip) (3.0.9)\n",
            "Installing collected packages: qutip\n",
            "Successfully installed qutip-4.7.0\n"
          ]
        }
      ]
    },
    {
      "cell_type": "code",
      "source": [
        "#this is needed to access a nested list using a list of indices; e.g. use [1,3,2] to access List[1][3][2]'s element\n",
        "def access(lst, indexes):\n",
        "    return reduce(operator.getitem, indexes, lst)"
      ],
      "metadata": {
        "id": "VRoYRq5DTbj9"
      },
      "execution_count": 49,
      "outputs": []
    },
    {
      "cell_type": "code",
      "execution_count": 50,
      "metadata": {
        "id": "v2JqCWcz2GAX"
      },
      "outputs": [],
      "source": [
        "### this is just a variable nested loop function, other functions are derived from this one but are completely different and modified.\n",
        "\n",
        "def var_for(n,range_list,counter_list):\n",
        "  #counter list must be set to (n+1)*[0] list before function call. It containt the list of the counters in the reverse order.\n",
        "  # n is the number of for loops - 1\n",
        "  # range list is a list of tuples each representing the lower and upper bounds of each of the \"n\" sums\n",
        "  # the last member of this list is the range for the first sigma. Below ordering is reveresed to make the input similar to the sum order in sigma notation.\n",
        "  ordered_range=range_list[::-1]\n",
        "  if n==0:\n",
        "    for i in range(ordered_range[n][0],ordered_range[n][1]):\n",
        "      #change the last counter member in the last loop as the loop spans the range\n",
        "      counter_list[n]=i\n",
        "      print(f'the last i equals {i} and (reversed before print) counters equal{counter_list[::-1]}')\n",
        "    return\n",
        "  else:\n",
        "    for i in range(ordered_range[n][0],ordered_range[n][1]):\n",
        "      counter_list[n]=i\n",
        "      print(i)\n",
        "      var_for(n-1,range_list,counter_list)\n",
        "    return"
      ]
    },
    {
      "cell_type": "code",
      "source": [
        "#Blank density is a zero matrix with enough size for N photons + 1 emitter in pauli basis \n",
        "\n",
        "def blank_density(N):\n",
        "  '''N is the number of photons'''\n",
        "  a=[]\n",
        "  if N==0:\n",
        "    return [0,0,0,0]\n",
        "  else:\n",
        "    for i in range(4):\n",
        "      a.append(blank_density(N-1))\n",
        "    return a\n"
      ],
      "metadata": {
        "id": "Rzut7MeD2qPL"
      },
      "execution_count": 81,
      "outputs": []
    },
    {
      "cell_type": "code",
      "source": [
        "def element_calculator(n,range_list,counter_list,element_indices):\n",
        "  #counter list must be set to (n+1)*[0] list before function call. It containt the list of the counters in the reverse order.\n",
        "  # n is the number of for loops - 1\n",
        "  # range list is a list of tuples each representing the lower and upper bounds of each of the \"n\" sums\n",
        "  # the last member of this list is the range for the first sigma. Below ordering is reveresed to make the input similar to the sum order in sigma notation.\n",
        "  ordered_range=range_list[::-1]\n",
        "  if n==0:\n",
        "    sum=0\n",
        "    for i in range(ordered_range[n][0],ordered_range[n][1]):\n",
        "      #change the last counter member in the last loop as the loop spans the range\n",
        "      counter_list[n]=i\n",
        "      #print(f'the last i equals {i} and (reversed before print) counters equal{counter_list[::-1]}, element{element_indices}')\n",
        "      m=1\n",
        "      c=0\n",
        "      for a in counter_list:\n",
        "        if c==0 & len(counter_list)>1:\n",
        "          m=m*phi[element_indices[0]][element_indices[1]][counter_list[c]]\n",
        "          c=c+1\n",
        "        elif c==0 and len(counter_list)==1:\n",
        "          m=m*phi[element_indices[0]][element_indices[1]][counter_list[c]]*rho0[counter_list[c]]\n",
        "          c=c+1\n",
        "        elif c==(len(counter_list)-1):\n",
        "          m=m*phi[element_indices[c+1]][counter_list[c-1]][counter_list[c]]*rho0[counter_list[c]]\n",
        "          c=c+1\n",
        "        else:\n",
        "          m=m*phi[element_indices[c+1]][counter_list[c-1]][counter_list[c]]\n",
        "          c=c+1\n",
        "      sum=sum+m\n",
        "      #print(f'm={m},sum={sum}')\n",
        "    return sum\n",
        "  else:\n",
        "    s=0\n",
        "    for i in range(ordered_range[n][0],ordered_range[n][1]):\n",
        "      counter_list[n]=i\n",
        "      #print(f's={s}')\n",
        "      s=s+element_calculator(n-1,range_list,counter_list,element_indices)\n",
        "    return s"
      ],
      "metadata": {
        "id": "bsSO7kRqWb8f"
      },
      "execution_count": 95,
      "outputs": []
    },
    {
      "cell_type": "code",
      "source": [
        "def phi_filler(n,range_list,counter_list):\n",
        "  #counter list must be set to (n+1)*[0] list before function call. It containt the list of the counters in the reverse order.\n",
        "  # n is the number of for loops - 1 = here n should be same as N = number of photons\n",
        "  # range list is a list of tuples each representing the lower and upper bounds of each of the \"n\" sums\n",
        "  # the last member of this list is the range for the first sigma. Below ordering is reveresed to make the input similar to the sum order in sigma notation.\n",
        "  ordered_range=range_list[::-1]\n",
        "  #to be used as the element calulator function inputs:\n",
        "  n1=N-1\n",
        "  range_list1=range_list[:-1]\n",
        "  counter_list1=counter_list[:-1]\n",
        "  #\n",
        "  if n==0:\n",
        "    for i in range(ordered_range[n][0],ordered_range[n][1]):\n",
        "      #change the last counter member in the last loop as the loop spans the range\n",
        "      counter_list[n]=i\n",
        "      #print(f'the last i equals {i} and (reversed before print) counters equal{counter_list[::-1]}')\n",
        "      ordered_counter=counter_list[::-1]\n",
        "      element_indices1=ordered_counter\n",
        "      the_element=0\n",
        "      the_element=element_calculator(n1,range_list1,counter_list1,element_indices1)\n",
        "      #print(f'the element{the_element}')\n",
        "      #access and assign the nested list's desired element using a list of indices \n",
        "      #print(f'element={the_element}')\n",
        "      density_element_set('density_matrix_decom',element_indices1,the_element)\n",
        "      #print(f'density-decom{density_matrix_decom}')\n",
        "    return\n",
        "  else:\n",
        "    for i in range(ordered_range[n][0],ordered_range[n][1]):\n",
        "      counter_list[n]=i\n",
        "      #print(i)\n",
        "      phi_filler(n-1,range_list,counter_list)\n",
        "    return"
      ],
      "metadata": {
        "id": "eHq3M-q1LARm"
      },
      "execution_count": 89,
      "outputs": []
    },
    {
      "cell_type": "code",
      "source": [
        "def state_maker(N,range_list,counter_list):\n",
        "  index_list=[]\n",
        "  if N==0:\n",
        "    for i in range(range_list[N][0],range_list[N][1]):\n",
        "      counter_list[N]=i\n",
        "      #print(f'counter {counter_list[::-1]}')\n",
        "      index_list.append(counter_list[::-1])\n",
        "    return index_list\n",
        "  else:\n",
        "    for i in range(range_list[N][0],range_list[N][1]):\n",
        "      counter_list[N]=i\n",
        "      #print(f' {i}')\n",
        "      index_list.extend(state_maker(N-1,range_list,counter_list))\n",
        "    return index_list"
      ],
      "metadata": {
        "id": "XqYIhk5niF6d"
      },
      "execution_count": 54,
      "outputs": []
    },
    {
      "cell_type": "code",
      "source": [
        "# a function to access the nested list \"density_matrix_decom\" (here it is a global list) using the list of index \"b=[b0,b1,...]\" \\ \n",
        "# instead of writing density_matrix_decom[b0][b1]...  \n",
        "def density_element_set(a,b,new_value):\n",
        "  '''gets the name of a list \"a\" in string format, and the list of indices b=[b0,b1,...] and sets a[b0][b1][...] = new_value'''\n",
        "  #a='density_matrix_decom'\n",
        "  str_list=[f'{a}']\n",
        "  for x in b:\n",
        "    str_list.extend([xx for xx in list(f'[{x}]')])\n",
        "  str_list.extend(['=',f'{new_value}'])\n",
        "  cc=''.join(str_list)\n",
        "  exec(cc)\n",
        "  return"
      ],
      "metadata": {
        "id": "da8KHnbGiFcw"
      },
      "execution_count": 57,
      "outputs": []
    },
    {
      "cell_type": "code",
      "source": [
        "#Solver for N photons! be wary of gobal variables, they need to be re-assigned before each use\n",
        "\n",
        "N=5 # set  number of photons\n",
        "\n",
        "#blank density matrix - it is not a density matrix in fact, but its decomposition in pauli basis- the ordering of DE and photons are as in Gershoni paper: DE-N-(N-1)- ... -2-1\n",
        "density_matrix_decom=blank_density(N)\n",
        "\n",
        "#input the process map\n",
        "#phi = 4*[4*[4*[0.25]]]\n",
        "phi=[[[0.5,0,0,0],[0,0,0,0],[0,0,0,0],[0,0,0,0.5]],[[0,0,0,0],[0,0.5,0,0],[0,0,0.5,0],[0,0,0,0]],\\\n",
        "     [[0,0,0,-0.5],[0,0,0,0],[0,0,0,0],[-0.5,0,0,0]],[[0,0,0,0],[0,0,0.5,0],[0,-0.5,0,0],[0,0,0,0]]]\n",
        "\n",
        "#input initial state of DE or emitter\n",
        "rho0=[0.5,0.5,0,0]\n",
        "\n",
        "counter_list=(N+1)*[0] # plus one to include the emitter\n",
        "\n",
        "range_list=[]\n",
        "for i in range(N+1):\n",
        "  range_list.append((0,4))\n",
        "\n",
        "#this function fills out density_matrix_decom\n",
        "phi_filler(N,range_list,counter_list)\n",
        "\n",
        "density_matrix_decom"
      ],
      "metadata": {
        "id": "UcGED1WaEQmf"
      },
      "execution_count": null,
      "outputs": []
    },
    {
      "cell_type": "code",
      "source": [
        "counter_list=(N+1)*[0]\n",
        "\n",
        "#a list of indices to access the density matrix decomposition elements to multiple them with corresponding tensor of paulies.\n",
        "index_list=state_maker(N,range_list,counter_list)\n",
        "#a single vector of pauli \n",
        "s=[qeye(2),sigmax(),sigmay(),sigmaz()]\n",
        "\n",
        "density_matrix=0\n",
        "for x in index_list:\n",
        "  Pauli=0.5*qeye(2)\n",
        "  for xx in x:\n",
        "    Pauli=tensor(Pauli,s[xx])\n",
        "  #remove the first initial identity matrix from the tensor product, to keep is a list of subspaces from 1 to N+1 to keep all photons and emitter\n",
        "  to_keep=[a for a in range(1,len(x)+1)]\n",
        "  Pauli=Pauli.ptrace(to_keep)\n",
        "  density_matrix=density_matrix+access(density_matrix_decom, x)*Pauli\n",
        "Matrix(density_matrix.ptrace([1,2,3]))"
      ],
      "metadata": {
        "id": "yQ3wBOIGjKsm"
      },
      "execution_count": null,
      "outputs": []
    },
    {
      "cell_type": "code",
      "source": [
        "Matrix(density_matrix)"
      ],
      "metadata": {
        "id": "FjdLR54U3SJE"
      },
      "execution_count": null,
      "outputs": []
    }
  ]
}